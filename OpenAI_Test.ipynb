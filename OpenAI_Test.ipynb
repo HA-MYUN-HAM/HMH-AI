{
  "nbformat": 4,
  "nbformat_minor": 0,
  "metadata": {
    "colab": {
      "provenance": []
    },
    "kernelspec": {
      "name": "python3",
      "display_name": "Python 3"
    },
    "language_info": {
      "name": "python"
    }
  },
  "cells": [
    {
      "cell_type": "code",
      "source": [
        "pip install openai"
      ],
      "metadata": {
        "colab": {
          "base_uri": "https://localhost:8080/"
        },
        "id": "vpmN1cPakU7Z",
        "outputId": "3804f22d-227e-440e-a32a-d44454e17812"
      },
      "execution_count": null,
      "outputs": [
        {
          "output_type": "stream",
          "name": "stdout",
          "text": [
            "Requirement already satisfied: openai in /usr/local/lib/python3.10/dist-packages (1.17.0)\n",
            "Requirement already satisfied: anyio<5,>=3.5.0 in /usr/local/lib/python3.10/dist-packages (from openai) (3.7.1)\n",
            "Requirement already satisfied: distro<2,>=1.7.0 in /usr/lib/python3/dist-packages (from openai) (1.7.0)\n",
            "Requirement already satisfied: httpx<1,>=0.23.0 in /usr/local/lib/python3.10/dist-packages (from openai) (0.27.0)\n",
            "Requirement already satisfied: pydantic<3,>=1.9.0 in /usr/local/lib/python3.10/dist-packages (from openai) (2.6.4)\n",
            "Requirement already satisfied: sniffio in /usr/local/lib/python3.10/dist-packages (from openai) (1.3.1)\n",
            "Requirement already satisfied: tqdm>4 in /usr/local/lib/python3.10/dist-packages (from openai) (4.66.2)\n",
            "Requirement already satisfied: typing-extensions<5,>=4.7 in /usr/local/lib/python3.10/dist-packages (from openai) (4.10.0)\n",
            "Requirement already satisfied: idna>=2.8 in /usr/local/lib/python3.10/dist-packages (from anyio<5,>=3.5.0->openai) (3.6)\n",
            "Requirement already satisfied: exceptiongroup in /usr/local/lib/python3.10/dist-packages (from anyio<5,>=3.5.0->openai) (1.2.0)\n",
            "Requirement already satisfied: certifi in /usr/local/lib/python3.10/dist-packages (from httpx<1,>=0.23.0->openai) (2024.2.2)\n",
            "Requirement already satisfied: httpcore==1.* in /usr/local/lib/python3.10/dist-packages (from httpx<1,>=0.23.0->openai) (1.0.5)\n",
            "Requirement already satisfied: h11<0.15,>=0.13 in /usr/local/lib/python3.10/dist-packages (from httpcore==1.*->httpx<1,>=0.23.0->openai) (0.14.0)\n",
            "Requirement already satisfied: annotated-types>=0.4.0 in /usr/local/lib/python3.10/dist-packages (from pydantic<3,>=1.9.0->openai) (0.6.0)\n",
            "Requirement already satisfied: pydantic-core==2.16.3 in /usr/local/lib/python3.10/dist-packages (from pydantic<3,>=1.9.0->openai) (2.16.3)\n"
          ]
        }
      ]
    },
    {
      "cell_type": "code",
      "execution_count": null,
      "metadata": {
        "id": "Nom1TqiXTkXk"
      },
      "outputs": [],
      "source": [
        "import os\n",
        "import openai\n",
        "import pandas as pd"
      ]
    },
    {
      "cell_type": "code",
      "source": [
        "from google.colab import userdata\n",
        "from google.colab import drive\n",
        "drive.mount('/content/drive')"
      ],
      "metadata": {
        "colab": {
          "base_uri": "https://localhost:8080/"
        },
        "id": "nO2nrOUFbHcp",
        "outputId": "f204dbf8-3251-45ce-a606-9c7bb39077a6"
      },
      "execution_count": null,
      "outputs": [
        {
          "output_type": "stream",
          "name": "stdout",
          "text": [
            "Drive already mounted at /content/drive; to attempt to forcibly remount, call drive.mount(\"/content/drive\", force_remount=True).\n"
          ]
        }
      ]
    },
    {
      "cell_type": "code",
      "source": [
        "openai.api_key = userdata.get('OPENAI_API_KEY')"
      ],
      "metadata": {
        "id": "4kI_AE_LfxoX"
      },
      "execution_count": null,
      "outputs": []
    },
    {
      "cell_type": "markdown",
      "source": [
        "**피드백 예시 1. 긍정적인 피드백**"
      ],
      "metadata": {
        "id": "_yufXEyOUq2D"
      }
    },
    {
      "cell_type": "code",
      "source": [
        "positive = [\n",
        "    \"A님, 정말 프로젝트마다 항상 새로운 아이디어를 가져와서 팀에 활력을 불어넣어 주시는 것 같아요. 창의적인 접근 방식이 정말 대단하다고 생각해요. 이런 에너지가 팀 전체에 긍정적인 영향을 주고 있어요.\",\n",
        "    \"업무를 진행하면서 A님의 세심한 주의력과 뛰어난 분석력이 정말 돋보입니다. 복잡한 문제를 쉽게 해결해주시는 능력 덕분에 많은 도움을 받고 있어요. 그리고 항상 친절하게 동료들을 도와주셔서 감사해요.\",\n",
        "    \"A님은 항상 긍정적인 태도로 팀 분위기를 밝게 만들어 주시는 것 같아요. 어려운 상황에서도 늘 웃음을 잃지 않으시는 모습이 인상적이에요. 그런 긍정적인 에너지가 팀 전체에 좋은 영향을 주고 있어요.\",\n",
        "    \"A님의 열정과 노력이 프로젝트마다 빛을 발하고 있어요. 어떤 일이든 최선을 다하는 모습이 정말 존경스럽습니다. 팀에 계시는 것만으로도 큰 힘이 되고 있어요.\",\n",
        "    \"A님은 항상 새로운 것을 배우려는 열정이 가득하신 것 같아요. 기술적인 면이나 업무 처리 방식에서도 늘 앞서가려는 모습이 보기 좋아요. 그런 자세가 팀 전체에도 좋은 영향을 미치고 있어요.\"\n",
        "]"
      ],
      "metadata": {
        "id": "SR-2OiKzUqUG"
      },
      "execution_count": null,
      "outputs": []
    },
    {
      "cell_type": "markdown",
      "source": [
        "**피드백 예시 2. 부정적인 피드백**"
      ],
      "metadata": {
        "id": "9YRDr1hJUyKF"
      }
    },
    {
      "cell_type": "code",
      "source": [
        "negative = [\n",
        "    \"A님, 프로젝트 할 때 세부적인 부분에 너무 많은 시간을 쓰시는 것 같아요. 그래서인지 전체적인 일정 관리가 좀 힘들어 보이더라고요. 전체 팀의 워크플로우에 맞춰서 일정 관리를 좀 더 신경 써 주셨으면 해요.\",\n",
        "    \"의사소통할 때 너무 직선적인 표현을 사용하시는 경우가 많은 것 같습니다. 가끔은 동료들이 상처받을 수도 있다는 걸 염두에 두시면 좋겠어요. 좀 더 부드러운 표현을 사용해보는 건 어떨까요?\",\n",
        "    \"A님, 팀 내에서 다른 문제들에 조금 더 관심을 가져주셨으면 합니다. 혼자서만 일하려고 하지 말고 팀원들과의 협력을 높여보세요. 모두가 함께 일하는 것이니까요.\",\n",
        "    \"마감 기한을 지키는 것에 좀 더 주의를 기울여야 할 것 같아요. 마감이 늦어지면 프로젝트 전체에 영향을 미치니까요. 앞으로는 시간 관리에 좀 더 신경 써 주세요.\",\n",
        "    \"기술적인 능력은 정말 좋지만, 새로운 기술이나 방법에 좀 더 개방적이 되셨으면 합니다. 변화에 유연하게 대응하는 것도 중요하다고 생각해요. 새로운 것을 배우려는 태도를 가져보면 어떨까요?\"\n",
        "]"
      ],
      "metadata": {
        "id": "2iEhmU-pU2AT"
      },
      "execution_count": null,
      "outputs": []
    },
    {
      "cell_type": "markdown",
      "source": [
        "**피드백 예시 3. 혼합 피드백 + 불필요한 감정적인 언어 포함**"
      ],
      "metadata": {
        "id": "tmGbDEvtU-Su"
      }
    },
    {
      "cell_type": "code",
      "source": [
        "sentences = [\n",
        "    \"일을 너무 못해서 짜증나요. 제발 능력을 좀 키워오세요.\",\n",
        "    \"당신이 맡은 일에 대해 마감 기한을 지켜주세요. 진짜 짜증나서 같이 일 못하겠어요. \",\n",
        "    \"당신은 항상 긍정적이고 최선을 다하지만, 기술적으로 성장하는 모습을 보여주시길 바랍니다.\",\n",
        "    \"목소리가 너무 앵앵거려서 듣기 싫어요\"\n",
        "]"
      ],
      "metadata": {
        "id": "ZT_kjshEU7hO"
      },
      "execution_count": null,
      "outputs": []
    },
    {
      "cell_type": "markdown",
      "source": [
        "**명령 프롬프트**"
      ],
      "metadata": {
        "id": "HRGkyoepfHQj"
      }
    },
    {
      "cell_type": "code",
      "source": [
        "prompt = f\"\"\"\n",
        "입력된 테스트는 어떤 한 사람에 대한 동료평가 내용입니다.\n",
        "피드백 대상의 이름은 문장 내에서 추출하세요, 만약 대상을 명확히 할 수 없을 경우, 대상없음으로 나타냅니다.\n",
        "만일 추출된 피드백 대상의 이름이 ~님 이라면 님자를 빼고 이름만 추출하세요. 별도의 출력은 필요없습니다.\n",
        "정리된 피드백에는 대상의 이름이 나오지 않아야 합니다.\n",
        "기존 피드백과 같은 말투를 사용하거나 ~입니다. 형식으로 작성하세요.\n",
        "입력 텍스트의 내용에서 긍정적인 부분과 부정적인 부분을 각각 넘버링 없이 문장 형식으로 정리하세요.\n",
        "단, 입력 텍스트에서 혐오표현, 비속어, 욕설, 은어, 감정적인 표현 등은 다른 부드러운 표현으로 대체해서 정리해야 합니다.\n",
        "만약 생략된 표현이 있다면 대체된 표현은 생략으로 작성하고, 대체된 표현에 추가하세요. 피드백 문장에는 생략된 내용을 언급하지 않아도 됩니다.\n",
        "\n",
        "아래와 같은 출력 형식을 지켜주세요. 단, 대체된 표현이 없는경우, 대체된 표현의 개수까지만 출력하면 됩니다.\n",
        "\n",
        "\n",
        "이름 님의 피드백 결과\n",
        "긍정적인 피드백: ...\n",
        "부정적인 피드백: ...\n",
        "\n",
        "대체된 표현의 개수:\n",
        "대체된 표현: 원래표현 -> 대체된 표현\n",
        "...\n",
        "대체된 표현: 원래표현 -> 대체된 표현\n",
        "\n",
        "피드백 종료\n",
        "\"\"\""
      ],
      "metadata": {
        "id": "JYFpSvHMauJW"
      },
      "execution_count": null,
      "outputs": []
    },
    {
      "cell_type": "code",
      "source": [
        "# 문장들을 하나의 문자열로 결합\n",
        "positive_input = \"\\n\".join(positive)\n",
        "negative_input = \"\\n\".join(negative)\n",
        "input_text = \"\\n\".join(sentences)"
      ],
      "metadata": {
        "id": "xmFZeQ4_axY_"
      },
      "execution_count": null,
      "outputs": []
    },
    {
      "cell_type": "code",
      "source": [
        "#문장 분석\n",
        "def analysisFunc(token):\n",
        "    analyze = openai.chat.completions.create (\n",
        "        model=\"gpt-4\",\n",
        "        messages=[\n",
        "            {\"role\": \"system\", \"content\": token},\n",
        "            {\"role\": \"user\", \"content\": prompt}\n",
        "        ],\n",
        "    )\n",
        "    return analyze"
      ],
      "metadata": {
        "id": "YlWSd1xta1Ux"
      },
      "execution_count": null,
      "outputs": []
    },
    {
      "cell_type": "code",
      "source": [
        "#결과 엑셀로 저장\n",
        "def saveFunc(output_text):\n",
        "    # 대체된 표현 추출\n",
        "    replacements = []\n",
        "    start_index = output_text.find(\"대체된 표현:\")\n",
        "    while start_index != -1:\n",
        "        end_index = output_text.find(\"\\n\", start_index)\n",
        "        replacement = output_text[start_index:end_index]\n",
        "        replacements.append(replacement)\n",
        "        start_index = output_text.find(\"대체된 표현:\", end_index)\n",
        "\n",
        "    # 원래 표현과 대체된 표현 추출\n",
        "    originals = []\n",
        "    replaced = []\n",
        "    for replacement in replacements:\n",
        "        original_start = replacement.find(\"대체된 표현:\") + 8\n",
        "        original_end = replacement.find(\"->\")\n",
        "        replaced_start = replacement.find(\"->\") + 2\n",
        "        originals.append(replacement[original_start:original_end])\n",
        "        replaced.append(replacement[replaced_start:].strip())\n",
        "\n",
        "    df = pd.read_excel(\"/content/drive/MyDrive/캡스톤/피드백 결과.xlsx\")\n",
        "\n",
        "    # 결과를 엑셀 파일로 저장\n",
        "    data = {\n",
        "        \"인물\": [output_text.split(\"님\")[0].strip()] ,\n",
        "        \"긍정적인 피드백\": [output_text.split(\"긍정적인 피드백: \")[1].split(\"\\n\")[0].strip()],\n",
        "        \"부정적인 피드백\": [output_text.split(\"부정적인 피드백: \")[1].split(\"\\n\")[0].strip()],\n",
        "        \"대체된 표현의 개수\": [output_text.split(\"대체된 표현의 개수: \")[1].split(\"\\n\")[0].strip()]\n",
        "    }\n",
        "\n",
        "    # 원래 표현과 대체된 표현 추가\n",
        "    for i, replacement in enumerate(replacements):\n",
        "        data[f\"원래 표현 {i+1} \"] = originals[i] if i < len(originals) else \"\"\n",
        "        data[f\"대체된 표현 {i+1}\"] = replaced[i] if i < len(replaced) else \"\"\n",
        "\n",
        "    df= pd.concat ([df, pd.DataFrame(data)], ignore_index=True)\n",
        "\n",
        "    # 결과를 엑셀 파일로 저장\n",
        "    df.to_excel(\"피드백 결과.xlsx\", index=False)\n",
        "\n",
        "    return df"
      ],
      "metadata": {
        "id": "mHJjU6Qza3wC"
      },
      "execution_count": null,
      "outputs": []
    },
    {
      "cell_type": "code",
      "source": [
        "analysis = analysisFunc(input_text)\n",
        "output_text = analysis.choices[0].message.content\n",
        "\n",
        "# 결과 출력\n",
        "print(output_text)"
      ],
      "metadata": {
        "colab": {
          "base_uri": "https://localhost:8080/"
        },
        "id": "BkgXdEH2a867",
        "outputId": "e2413ddd-0684-4381-8364-0b7f258a29ce"
      },
      "execution_count": null,
      "outputs": [
        {
          "output_type": "stream",
          "name": "stdout",
          "text": [
            "이름: 대상없음\n",
            "\n",
            "긍정적인 피드백: 항상 긍정적이고 최선을 다하는 태도를 보여줍니다.\n",
            "\n",
            "부정적인 피드백: 일에 대한 능력이 부족하며, 마감 기한을 지키지 못합니다. 또한, 기술적으로 성장하는 모습이 보이지 않습니다. 목소리 톤이 듣기에 부담스럽습니다. \n",
            "\n",
            "대체된 표현의 개수: 3\n",
            "대체된 표현: 제발 능력을 좀 키워오세요 -> 일에 대한 능력이 부족합니다.\n",
            "대체된 표현: 진짜 짜증나서 같이 일 못하겠어요 -> 마감 기한을 지키지 못합니다.\n",
            "대체된 표현: 목소리가 너무 앵앵거려서 듣기 싫어요 -> 목소리 톤이 듣기에 부담스럽습니다.\n",
            "\n",
            "피드백 종료\n"
          ]
        }
      ]
    },
    {
      "cell_type": "code",
      "source": [
        "saveFunc(output_text)"
      ],
      "metadata": {
        "colab": {
          "base_uri": "https://localhost:8080/",
          "height": 1000
        },
        "id": "xt9eQ_Ilj8oE",
        "outputId": "dfccb61f-9157-454e-e912-19bee96fa505"
      },
      "execution_count": null,
      "outputs": [
        {
          "output_type": "execute_result",
          "data": {
            "text/plain": [
              "                                                  인물  \\\n",
              "0                                                  A   \n",
              "1                                                  A   \n",
              "2                                                 이름   \n",
              "3                                               대상없음   \n",
              "4  이름: 대상없음\\n\\n긍정적인 피드백: 항상 긍정적이고 최선을 다하는 태도를 보여줍...   \n",
              "\n",
              "                                            긍정적인 피드백  \\\n",
              "0  프로젝트마다 새로운 아이디어를 가져와서 팀의 활력을 불어넣게 하는 창의적이고 에너지...   \n",
              "1                                    기술적 능력이 뛰어나십니다.   \n",
              "2                         항상 긍정적으로 일에 임하고 최선을 다하고 있음   \n",
              "3                    항상 긍정적인 태도를 보여주며, 최선을 다하고 계십니다.   \n",
              "4                        항상 긍정적이고 최선을 다하는 태도를 보여줍니다.   \n",
              "\n",
              "                                            부정적인 피드백 대체된 표현의 개수  \\\n",
              "0                                                 없음          0   \n",
              "1  프로젝트의 전체 일정 관리에 어려움이 있으며, 더욱 신경 써주세요. 의사소통 시, ...          0   \n",
              "2  일의 능력이 부족하여 업무처리에 어려움을 겪고 있으며, 마감일을 지키지 못하는 경우...          2   \n",
              "3  일의 능력이 부족하며, 기술적 성장이 필요합니다. 또한 더욱 성숙한 커뮤니케이션 능...          3   \n",
              "4  일에 대한 능력이 부족하며, 마감 기한을 지키지 못합니다. 또한, 기술적으로 성장하...          3   \n",
              "\n",
              "                           원래 표현 1   \\\n",
              "0                               NaN   \n",
              "1                               NaN   \n",
              "2  일을 너무 못해서 짜증나요. 제발 능력을 좀 키워오세요.    \n",
              "3                             짜증나다    \n",
              "4                   제발 능력을 좀 키워오세요    \n",
              "\n",
              "                                        대체된 표현 1               원래 표현 2   \\\n",
              "0                                            NaN                    NaN   \n",
              "1                                            NaN                    NaN   \n",
              "2  일의 능력이 부족하여 업무처리에 어려움을 겪고 있으며, 기술적인 성장이 필요하다.  목소리가 너무 앵앵거려서 듣기 싫어요    \n",
              "3                                           부족하다                  못하겠다    \n",
              "4                               일에 대한 능력이 부족합니다.    진짜 짜증나서 같이 일 못하겠어요    \n",
              "\n",
              "           대체된 표현 2               원래 표현 3              대체된 표현 3  원래 표현 4   \\\n",
              "0               NaN                    NaN                  NaN       NaN   \n",
              "1               NaN                    NaN                  NaN       NaN   \n",
              "2    음성 톤이 다소 불편하다.                    NaN                  NaN       NaN   \n",
              "3              미흡하다                 앵앵거리다              성숙하지 못하다       NaN   \n",
              "4  마감 기한을 지키지 못합니다.  목소리가 너무 앵앵거려서 듣기 싫어요   목소리 톤이 듣기에 부담스럽습니다.       NaN   \n",
              "\n",
              "   대체된 표현 4  \n",
              "0       NaN  \n",
              "1       NaN  \n",
              "2       NaN  \n",
              "3       NaN  \n",
              "4       NaN  "
            ],
            "text/html": [
              "\n",
              "  <div id=\"df-cee373b4-ee3f-43ec-a6b2-1cb898728320\" class=\"colab-df-container\">\n",
              "    <div>\n",
              "<style scoped>\n",
              "    .dataframe tbody tr th:only-of-type {\n",
              "        vertical-align: middle;\n",
              "    }\n",
              "\n",
              "    .dataframe tbody tr th {\n",
              "        vertical-align: top;\n",
              "    }\n",
              "\n",
              "    .dataframe thead th {\n",
              "        text-align: right;\n",
              "    }\n",
              "</style>\n",
              "<table border=\"1\" class=\"dataframe\">\n",
              "  <thead>\n",
              "    <tr style=\"text-align: right;\">\n",
              "      <th></th>\n",
              "      <th>인물</th>\n",
              "      <th>긍정적인 피드백</th>\n",
              "      <th>부정적인 피드백</th>\n",
              "      <th>대체된 표현의 개수</th>\n",
              "      <th>원래 표현 1</th>\n",
              "      <th>대체된 표현 1</th>\n",
              "      <th>원래 표현 2</th>\n",
              "      <th>대체된 표현 2</th>\n",
              "      <th>원래 표현 3</th>\n",
              "      <th>대체된 표현 3</th>\n",
              "      <th>원래 표현 4</th>\n",
              "      <th>대체된 표현 4</th>\n",
              "    </tr>\n",
              "  </thead>\n",
              "  <tbody>\n",
              "    <tr>\n",
              "      <th>0</th>\n",
              "      <td>A</td>\n",
              "      <td>프로젝트마다 새로운 아이디어를 가져와서 팀의 활력을 불어넣게 하는 창의적이고 에너지...</td>\n",
              "      <td>없음</td>\n",
              "      <td>0</td>\n",
              "      <td>NaN</td>\n",
              "      <td>NaN</td>\n",
              "      <td>NaN</td>\n",
              "      <td>NaN</td>\n",
              "      <td>NaN</td>\n",
              "      <td>NaN</td>\n",
              "      <td>NaN</td>\n",
              "      <td>NaN</td>\n",
              "    </tr>\n",
              "    <tr>\n",
              "      <th>1</th>\n",
              "      <td>A</td>\n",
              "      <td>기술적 능력이 뛰어나십니다.</td>\n",
              "      <td>프로젝트의 전체 일정 관리에 어려움이 있으며, 더욱 신경 써주세요. 의사소통 시, ...</td>\n",
              "      <td>0</td>\n",
              "      <td>NaN</td>\n",
              "      <td>NaN</td>\n",
              "      <td>NaN</td>\n",
              "      <td>NaN</td>\n",
              "      <td>NaN</td>\n",
              "      <td>NaN</td>\n",
              "      <td>NaN</td>\n",
              "      <td>NaN</td>\n",
              "    </tr>\n",
              "    <tr>\n",
              "      <th>2</th>\n",
              "      <td>이름</td>\n",
              "      <td>항상 긍정적으로 일에 임하고 최선을 다하고 있음</td>\n",
              "      <td>일의 능력이 부족하여 업무처리에 어려움을 겪고 있으며, 마감일을 지키지 못하는 경우...</td>\n",
              "      <td>2</td>\n",
              "      <td>일을 너무 못해서 짜증나요. 제발 능력을 좀 키워오세요.</td>\n",
              "      <td>일의 능력이 부족하여 업무처리에 어려움을 겪고 있으며, 기술적인 성장이 필요하다.</td>\n",
              "      <td>목소리가 너무 앵앵거려서 듣기 싫어요</td>\n",
              "      <td>음성 톤이 다소 불편하다.</td>\n",
              "      <td>NaN</td>\n",
              "      <td>NaN</td>\n",
              "      <td>NaN</td>\n",
              "      <td>NaN</td>\n",
              "    </tr>\n",
              "    <tr>\n",
              "      <th>3</th>\n",
              "      <td>대상없음</td>\n",
              "      <td>항상 긍정적인 태도를 보여주며, 최선을 다하고 계십니다.</td>\n",
              "      <td>일의 능력이 부족하며, 기술적 성장이 필요합니다. 또한 더욱 성숙한 커뮤니케이션 능...</td>\n",
              "      <td>3</td>\n",
              "      <td>짜증나다</td>\n",
              "      <td>부족하다</td>\n",
              "      <td>못하겠다</td>\n",
              "      <td>미흡하다</td>\n",
              "      <td>앵앵거리다</td>\n",
              "      <td>성숙하지 못하다</td>\n",
              "      <td>NaN</td>\n",
              "      <td>NaN</td>\n",
              "    </tr>\n",
              "    <tr>\n",
              "      <th>4</th>\n",
              "      <td>이름: 대상없음\\n\\n긍정적인 피드백: 항상 긍정적이고 최선을 다하는 태도를 보여줍...</td>\n",
              "      <td>항상 긍정적이고 최선을 다하는 태도를 보여줍니다.</td>\n",
              "      <td>일에 대한 능력이 부족하며, 마감 기한을 지키지 못합니다. 또한, 기술적으로 성장하...</td>\n",
              "      <td>3</td>\n",
              "      <td>제발 능력을 좀 키워오세요</td>\n",
              "      <td>일에 대한 능력이 부족합니다.</td>\n",
              "      <td>진짜 짜증나서 같이 일 못하겠어요</td>\n",
              "      <td>마감 기한을 지키지 못합니다.</td>\n",
              "      <td>목소리가 너무 앵앵거려서 듣기 싫어요</td>\n",
              "      <td>목소리 톤이 듣기에 부담스럽습니다.</td>\n",
              "      <td>NaN</td>\n",
              "      <td>NaN</td>\n",
              "    </tr>\n",
              "  </tbody>\n",
              "</table>\n",
              "</div>\n",
              "    <div class=\"colab-df-buttons\">\n",
              "\n",
              "  <div class=\"colab-df-container\">\n",
              "    <button class=\"colab-df-convert\" onclick=\"convertToInteractive('df-cee373b4-ee3f-43ec-a6b2-1cb898728320')\"\n",
              "            title=\"Convert this dataframe to an interactive table.\"\n",
              "            style=\"display:none;\">\n",
              "\n",
              "  <svg xmlns=\"http://www.w3.org/2000/svg\" height=\"24px\" viewBox=\"0 -960 960 960\">\n",
              "    <path d=\"M120-120v-720h720v720H120Zm60-500h600v-160H180v160Zm220 220h160v-160H400v160Zm0 220h160v-160H400v160ZM180-400h160v-160H180v160Zm440 0h160v-160H620v160ZM180-180h160v-160H180v160Zm440 0h160v-160H620v160Z\"/>\n",
              "  </svg>\n",
              "    </button>\n",
              "\n",
              "  <style>\n",
              "    .colab-df-container {\n",
              "      display:flex;\n",
              "      gap: 12px;\n",
              "    }\n",
              "\n",
              "    .colab-df-convert {\n",
              "      background-color: #E8F0FE;\n",
              "      border: none;\n",
              "      border-radius: 50%;\n",
              "      cursor: pointer;\n",
              "      display: none;\n",
              "      fill: #1967D2;\n",
              "      height: 32px;\n",
              "      padding: 0 0 0 0;\n",
              "      width: 32px;\n",
              "    }\n",
              "\n",
              "    .colab-df-convert:hover {\n",
              "      background-color: #E2EBFA;\n",
              "      box-shadow: 0px 1px 2px rgba(60, 64, 67, 0.3), 0px 1px 3px 1px rgba(60, 64, 67, 0.15);\n",
              "      fill: #174EA6;\n",
              "    }\n",
              "\n",
              "    .colab-df-buttons div {\n",
              "      margin-bottom: 4px;\n",
              "    }\n",
              "\n",
              "    [theme=dark] .colab-df-convert {\n",
              "      background-color: #3B4455;\n",
              "      fill: #D2E3FC;\n",
              "    }\n",
              "\n",
              "    [theme=dark] .colab-df-convert:hover {\n",
              "      background-color: #434B5C;\n",
              "      box-shadow: 0px 1px 3px 1px rgba(0, 0, 0, 0.15);\n",
              "      filter: drop-shadow(0px 1px 2px rgba(0, 0, 0, 0.3));\n",
              "      fill: #FFFFFF;\n",
              "    }\n",
              "  </style>\n",
              "\n",
              "    <script>\n",
              "      const buttonEl =\n",
              "        document.querySelector('#df-cee373b4-ee3f-43ec-a6b2-1cb898728320 button.colab-df-convert');\n",
              "      buttonEl.style.display =\n",
              "        google.colab.kernel.accessAllowed ? 'block' : 'none';\n",
              "\n",
              "      async function convertToInteractive(key) {\n",
              "        const element = document.querySelector('#df-cee373b4-ee3f-43ec-a6b2-1cb898728320');\n",
              "        const dataTable =\n",
              "          await google.colab.kernel.invokeFunction('convertToInteractive',\n",
              "                                                    [key], {});\n",
              "        if (!dataTable) return;\n",
              "\n",
              "        const docLinkHtml = 'Like what you see? Visit the ' +\n",
              "          '<a target=\"_blank\" href=https://colab.research.google.com/notebooks/data_table.ipynb>data table notebook</a>'\n",
              "          + ' to learn more about interactive tables.';\n",
              "        element.innerHTML = '';\n",
              "        dataTable['output_type'] = 'display_data';\n",
              "        await google.colab.output.renderOutput(dataTable, element);\n",
              "        const docLink = document.createElement('div');\n",
              "        docLink.innerHTML = docLinkHtml;\n",
              "        element.appendChild(docLink);\n",
              "      }\n",
              "    </script>\n",
              "  </div>\n",
              "\n",
              "\n",
              "<div id=\"df-c0e552d9-e680-4fbb-9c8c-9757acc9394b\">\n",
              "  <button class=\"colab-df-quickchart\" onclick=\"quickchart('df-c0e552d9-e680-4fbb-9c8c-9757acc9394b')\"\n",
              "            title=\"Suggest charts\"\n",
              "            style=\"display:none;\">\n",
              "\n",
              "<svg xmlns=\"http://www.w3.org/2000/svg\" height=\"24px\"viewBox=\"0 0 24 24\"\n",
              "     width=\"24px\">\n",
              "    <g>\n",
              "        <path d=\"M19 3H5c-1.1 0-2 .9-2 2v14c0 1.1.9 2 2 2h14c1.1 0 2-.9 2-2V5c0-1.1-.9-2-2-2zM9 17H7v-7h2v7zm4 0h-2V7h2v10zm4 0h-2v-4h2v4z\"/>\n",
              "    </g>\n",
              "</svg>\n",
              "  </button>\n",
              "\n",
              "<style>\n",
              "  .colab-df-quickchart {\n",
              "      --bg-color: #E8F0FE;\n",
              "      --fill-color: #1967D2;\n",
              "      --hover-bg-color: #E2EBFA;\n",
              "      --hover-fill-color: #174EA6;\n",
              "      --disabled-fill-color: #AAA;\n",
              "      --disabled-bg-color: #DDD;\n",
              "  }\n",
              "\n",
              "  [theme=dark] .colab-df-quickchart {\n",
              "      --bg-color: #3B4455;\n",
              "      --fill-color: #D2E3FC;\n",
              "      --hover-bg-color: #434B5C;\n",
              "      --hover-fill-color: #FFFFFF;\n",
              "      --disabled-bg-color: #3B4455;\n",
              "      --disabled-fill-color: #666;\n",
              "  }\n",
              "\n",
              "  .colab-df-quickchart {\n",
              "    background-color: var(--bg-color);\n",
              "    border: none;\n",
              "    border-radius: 50%;\n",
              "    cursor: pointer;\n",
              "    display: none;\n",
              "    fill: var(--fill-color);\n",
              "    height: 32px;\n",
              "    padding: 0;\n",
              "    width: 32px;\n",
              "  }\n",
              "\n",
              "  .colab-df-quickchart:hover {\n",
              "    background-color: var(--hover-bg-color);\n",
              "    box-shadow: 0 1px 2px rgba(60, 64, 67, 0.3), 0 1px 3px 1px rgba(60, 64, 67, 0.15);\n",
              "    fill: var(--button-hover-fill-color);\n",
              "  }\n",
              "\n",
              "  .colab-df-quickchart-complete:disabled,\n",
              "  .colab-df-quickchart-complete:disabled:hover {\n",
              "    background-color: var(--disabled-bg-color);\n",
              "    fill: var(--disabled-fill-color);\n",
              "    box-shadow: none;\n",
              "  }\n",
              "\n",
              "  .colab-df-spinner {\n",
              "    border: 2px solid var(--fill-color);\n",
              "    border-color: transparent;\n",
              "    border-bottom-color: var(--fill-color);\n",
              "    animation:\n",
              "      spin 1s steps(1) infinite;\n",
              "  }\n",
              "\n",
              "  @keyframes spin {\n",
              "    0% {\n",
              "      border-color: transparent;\n",
              "      border-bottom-color: var(--fill-color);\n",
              "      border-left-color: var(--fill-color);\n",
              "    }\n",
              "    20% {\n",
              "      border-color: transparent;\n",
              "      border-left-color: var(--fill-color);\n",
              "      border-top-color: var(--fill-color);\n",
              "    }\n",
              "    30% {\n",
              "      border-color: transparent;\n",
              "      border-left-color: var(--fill-color);\n",
              "      border-top-color: var(--fill-color);\n",
              "      border-right-color: var(--fill-color);\n",
              "    }\n",
              "    40% {\n",
              "      border-color: transparent;\n",
              "      border-right-color: var(--fill-color);\n",
              "      border-top-color: var(--fill-color);\n",
              "    }\n",
              "    60% {\n",
              "      border-color: transparent;\n",
              "      border-right-color: var(--fill-color);\n",
              "    }\n",
              "    80% {\n",
              "      border-color: transparent;\n",
              "      border-right-color: var(--fill-color);\n",
              "      border-bottom-color: var(--fill-color);\n",
              "    }\n",
              "    90% {\n",
              "      border-color: transparent;\n",
              "      border-bottom-color: var(--fill-color);\n",
              "    }\n",
              "  }\n",
              "</style>\n",
              "\n",
              "  <script>\n",
              "    async function quickchart(key) {\n",
              "      const quickchartButtonEl =\n",
              "        document.querySelector('#' + key + ' button');\n",
              "      quickchartButtonEl.disabled = true;  // To prevent multiple clicks.\n",
              "      quickchartButtonEl.classList.add('colab-df-spinner');\n",
              "      try {\n",
              "        const charts = await google.colab.kernel.invokeFunction(\n",
              "            'suggestCharts', [key], {});\n",
              "      } catch (error) {\n",
              "        console.error('Error during call to suggestCharts:', error);\n",
              "      }\n",
              "      quickchartButtonEl.classList.remove('colab-df-spinner');\n",
              "      quickchartButtonEl.classList.add('colab-df-quickchart-complete');\n",
              "    }\n",
              "    (() => {\n",
              "      let quickchartButtonEl =\n",
              "        document.querySelector('#df-c0e552d9-e680-4fbb-9c8c-9757acc9394b button');\n",
              "      quickchartButtonEl.style.display =\n",
              "        google.colab.kernel.accessAllowed ? 'block' : 'none';\n",
              "    })();\n",
              "  </script>\n",
              "</div>\n",
              "    </div>\n",
              "  </div>\n"
            ],
            "application/vnd.google.colaboratory.intrinsic+json": {
              "type": "dataframe",
              "summary": "{\n  \"name\": \"saveFunc(output_text)\",\n  \"rows\": 5,\n  \"fields\": [\n    {\n      \"column\": \"\\uc778\\ubb3c\",\n      \"properties\": {\n        \"dtype\": \"string\",\n        \"num_unique_values\": 4,\n        \"samples\": [\n          \"\\uc774\\ub984\",\n          \"\\uc774\\ub984: \\ub300\\uc0c1\\uc5c6\\uc74c\\n\\n\\uae0d\\uc815\\uc801\\uc778 \\ud53c\\ub4dc\\ubc31: \\ud56d\\uc0c1 \\uae0d\\uc815\\uc801\\uc774\\uace0 \\ucd5c\\uc120\\uc744 \\ub2e4\\ud558\\ub294 \\ud0dc\\ub3c4\\ub97c \\ubcf4\\uc5ec\\uc90d\\ub2c8\\ub2e4.\\n\\n\\ubd80\\uc815\\uc801\\uc778 \\ud53c\\ub4dc\\ubc31: \\uc77c\\uc5d0 \\ub300\\ud55c \\ub2a5\\ub825\\uc774 \\ubd80\\uc871\\ud558\\uba70, \\ub9c8\\uac10 \\uae30\\ud55c\\uc744 \\uc9c0\\ud0a4\\uc9c0 \\ubabb\\ud569\\ub2c8\\ub2e4. \\ub610\\ud55c, \\uae30\\uc220\\uc801\\uc73c\\ub85c \\uc131\\uc7a5\\ud558\\ub294 \\ubaa8\\uc2b5\\uc774 \\ubcf4\\uc774\\uc9c0 \\uc54a\\uc2b5\\ub2c8\\ub2e4. \\ubaa9\\uc18c\\ub9ac \\ud1a4\\uc774 \\ub4e3\\uae30\\uc5d0 \\ubd80\\ub2f4\\uc2a4\\ub7fd\\uc2b5\\ub2c8\\ub2e4. \\n\\n\\ub300\\uccb4\\ub41c \\ud45c\\ud604\\uc758 \\uac1c\\uc218: 3\\n\\ub300\\uccb4\\ub41c \\ud45c\\ud604: \\uc81c\\ubc1c \\ub2a5\\ub825\\uc744 \\uc880 \\ud0a4\\uc6cc\\uc624\\uc138\\uc694 -> \\uc77c\\uc5d0 \\ub300\\ud55c \\ub2a5\\ub825\\uc774 \\ubd80\\uc871\\ud569\\ub2c8\\ub2e4.\\n\\ub300\\uccb4\\ub41c \\ud45c\\ud604: \\uc9c4\\uc9dc \\uc9dc\\uc99d\\ub098\\uc11c \\uac19\\uc774 \\uc77c \\ubabb\\ud558\\uaca0\\uc5b4\\uc694 -> \\ub9c8\\uac10 \\uae30\\ud55c\\uc744 \\uc9c0\\ud0a4\\uc9c0 \\ubabb\\ud569\\ub2c8\\ub2e4.\\n\\ub300\\uccb4\\ub41c \\ud45c\\ud604: \\ubaa9\\uc18c\\ub9ac\\uac00 \\ub108\\ubb34 \\uc575\\uc575\\uac70\\ub824\\uc11c \\ub4e3\\uae30 \\uc2eb\\uc5b4\\uc694 -> \\ubaa9\\uc18c\\ub9ac \\ud1a4\\uc774 \\ub4e3\\uae30\\uc5d0 \\ubd80\\ub2f4\\uc2a4\\ub7fd\\uc2b5\\ub2c8\\ub2e4.\\n\\n\\ud53c\\ub4dc\\ubc31 \\uc885\\ub8cc\",\n          \"A\"\n        ],\n        \"semantic_type\": \"\",\n        \"description\": \"\"\n      }\n    },\n    {\n      \"column\": \"\\uae0d\\uc815\\uc801\\uc778 \\ud53c\\ub4dc\\ubc31\",\n      \"properties\": {\n        \"dtype\": \"string\",\n        \"num_unique_values\": 5,\n        \"samples\": [\n          \"\\uae30\\uc220\\uc801 \\ub2a5\\ub825\\uc774 \\ub6f0\\uc5b4\\ub098\\uc2ed\\ub2c8\\ub2e4.\",\n          \"\\ud56d\\uc0c1 \\uae0d\\uc815\\uc801\\uc774\\uace0 \\ucd5c\\uc120\\uc744 \\ub2e4\\ud558\\ub294 \\ud0dc\\ub3c4\\ub97c \\ubcf4\\uc5ec\\uc90d\\ub2c8\\ub2e4.\",\n          \"\\ud56d\\uc0c1 \\uae0d\\uc815\\uc801\\uc73c\\ub85c \\uc77c\\uc5d0 \\uc784\\ud558\\uace0 \\ucd5c\\uc120\\uc744 \\ub2e4\\ud558\\uace0 \\uc788\\uc74c\"\n        ],\n        \"semantic_type\": \"\",\n        \"description\": \"\"\n      }\n    },\n    {\n      \"column\": \"\\ubd80\\uc815\\uc801\\uc778 \\ud53c\\ub4dc\\ubc31\",\n      \"properties\": {\n        \"dtype\": \"string\",\n        \"num_unique_values\": 5,\n        \"samples\": [\n          \"\\ud504\\ub85c\\uc81d\\ud2b8\\uc758 \\uc804\\uccb4 \\uc77c\\uc815 \\uad00\\ub9ac\\uc5d0 \\uc5b4\\ub824\\uc6c0\\uc774 \\uc788\\uc73c\\uba70, \\ub354\\uc6b1 \\uc2e0\\uacbd \\uc368\\uc8fc\\uc138\\uc694. \\uc758\\uc0ac\\uc18c\\ud1b5 \\uc2dc, \\ubd80\\ub4dc\\ub7ec\\uc6b4 \\ud45c\\ud604\\uc744 \\uc0ac\\uc6a9\\ud558\\ub294 \\uac83\\uc744 \\uad8c\\uc7a5\\ud569\\ub2c8\\ub2e4. \\ud300 \\ub0b4\\uc758 \\ub2e4\\ub978 \\ubb38\\uc81c\\uc5d0 \\ub300\\ud55c \\uad00\\uc2ec\\uc774 \\ubd80\\uc871\\ud574 \\ubcf4\\uc785\\ub2c8\\ub2e4. \\ub9c8\\uac10 \\uae30\\ud55c\\uc744 \\uc9c0\\ud0a4\\ub294 \\ub370 \\uc8fc\\uc758\\ub97c \\uae30\\uc6b8\\uc5ec\\uc57c \\ud569\\ub2c8\\ub2e4. \\uc0c8\\ub85c\\uc6b4 \\uae30\\uc220\\uc774\\ub098 \\ubc29\\ubc95\\uc5d0 \\ub300\\ud55c \\uac1c\\ubc29\\uc131\\uc774 \\uc880 \\ub354 \\ud544\\uc694\\ud569\\ub2c8\\ub2e4.\",\n          \"\\uc77c\\uc5d0 \\ub300\\ud55c \\ub2a5\\ub825\\uc774 \\ubd80\\uc871\\ud558\\uba70, \\ub9c8\\uac10 \\uae30\\ud55c\\uc744 \\uc9c0\\ud0a4\\uc9c0 \\ubabb\\ud569\\ub2c8\\ub2e4. \\ub610\\ud55c, \\uae30\\uc220\\uc801\\uc73c\\ub85c \\uc131\\uc7a5\\ud558\\ub294 \\ubaa8\\uc2b5\\uc774 \\ubcf4\\uc774\\uc9c0 \\uc54a\\uc2b5\\ub2c8\\ub2e4. \\ubaa9\\uc18c\\ub9ac \\ud1a4\\uc774 \\ub4e3\\uae30\\uc5d0 \\ubd80\\ub2f4\\uc2a4\\ub7fd\\uc2b5\\ub2c8\\ub2e4.\",\n          \"\\uc77c\\uc758 \\ub2a5\\ub825\\uc774 \\ubd80\\uc871\\ud558\\uc5ec \\uc5c5\\ubb34\\ucc98\\ub9ac\\uc5d0 \\uc5b4\\ub824\\uc6c0\\uc744 \\uacaa\\uace0 \\uc788\\uc73c\\uba70, \\ub9c8\\uac10\\uc77c\\uc744 \\uc9c0\\ud0a4\\uc9c0 \\ubabb\\ud558\\ub294 \\uacbd\\uc6b0\\uac00 \\uc788\\ub2e4. \\uae30\\uc220\\uc801\\uc778 \\uc131\\uc7a5\\uc774 \\ud544\\uc694\\ud558\\ub2e4. \\uc74c\\uc131 \\ud1a4\\uc774 \\ub2e4\\uc18c \\ubd88\\ud3b8\\ud558\\ub2e4.\"\n        ],\n        \"semantic_type\": \"\",\n        \"description\": \"\"\n      }\n    },\n    {\n      \"column\": \"\\ub300\\uccb4\\ub41c \\ud45c\\ud604\\uc758 \\uac1c\\uc218\",\n      \"properties\": {\n        \"dtype\": \"string\",\n        \"num_unique_values\": 4,\n        \"samples\": [\n          2,\n          \"3\",\n          0\n        ],\n        \"semantic_type\": \"\",\n        \"description\": \"\"\n      }\n    },\n    {\n      \"column\": \"\\uc6d0\\ub798 \\ud45c\\ud604 1 \",\n      \"properties\": {\n        \"dtype\": \"string\",\n        \"num_unique_values\": 3,\n        \"samples\": [\n          \"\\uc77c\\uc744 \\ub108\\ubb34 \\ubabb\\ud574\\uc11c \\uc9dc\\uc99d\\ub098\\uc694. \\uc81c\\ubc1c \\ub2a5\\ub825\\uc744 \\uc880 \\ud0a4\\uc6cc\\uc624\\uc138\\uc694. \",\n          \"\\uc9dc\\uc99d\\ub098\\ub2e4 \",\n          \"\\uc81c\\ubc1c \\ub2a5\\ub825\\uc744 \\uc880 \\ud0a4\\uc6cc\\uc624\\uc138\\uc694 \"\n        ],\n        \"semantic_type\": \"\",\n        \"description\": \"\"\n      }\n    },\n    {\n      \"column\": \"\\ub300\\uccb4\\ub41c \\ud45c\\ud604 1\",\n      \"properties\": {\n        \"dtype\": \"string\",\n        \"num_unique_values\": 3,\n        \"samples\": [\n          \"\\uc77c\\uc758 \\ub2a5\\ub825\\uc774 \\ubd80\\uc871\\ud558\\uc5ec \\uc5c5\\ubb34\\ucc98\\ub9ac\\uc5d0 \\uc5b4\\ub824\\uc6c0\\uc744 \\uacaa\\uace0 \\uc788\\uc73c\\uba70, \\uae30\\uc220\\uc801\\uc778 \\uc131\\uc7a5\\uc774 \\ud544\\uc694\\ud558\\ub2e4.\",\n          \"\\ubd80\\uc871\\ud558\\ub2e4\",\n          \"\\uc77c\\uc5d0 \\ub300\\ud55c \\ub2a5\\ub825\\uc774 \\ubd80\\uc871\\ud569\\ub2c8\\ub2e4.\"\n        ],\n        \"semantic_type\": \"\",\n        \"description\": \"\"\n      }\n    },\n    {\n      \"column\": \"\\uc6d0\\ub798 \\ud45c\\ud604 2 \",\n      \"properties\": {\n        \"dtype\": \"string\",\n        \"num_unique_values\": 3,\n        \"samples\": [\n          \"\\ubaa9\\uc18c\\ub9ac\\uac00 \\ub108\\ubb34 \\uc575\\uc575\\uac70\\ub824\\uc11c \\ub4e3\\uae30 \\uc2eb\\uc5b4\\uc694 \",\n          \"\\ubabb\\ud558\\uaca0\\ub2e4 \",\n          \"\\uc9c4\\uc9dc \\uc9dc\\uc99d\\ub098\\uc11c \\uac19\\uc774 \\uc77c \\ubabb\\ud558\\uaca0\\uc5b4\\uc694 \"\n        ],\n        \"semantic_type\": \"\",\n        \"description\": \"\"\n      }\n    },\n    {\n      \"column\": \"\\ub300\\uccb4\\ub41c \\ud45c\\ud604 2\",\n      \"properties\": {\n        \"dtype\": \"string\",\n        \"num_unique_values\": 3,\n        \"samples\": [\n          \"\\uc74c\\uc131 \\ud1a4\\uc774 \\ub2e4\\uc18c \\ubd88\\ud3b8\\ud558\\ub2e4.\",\n          \"\\ubbf8\\ud761\\ud558\\ub2e4\",\n          \"\\ub9c8\\uac10 \\uae30\\ud55c\\uc744 \\uc9c0\\ud0a4\\uc9c0 \\ubabb\\ud569\\ub2c8\\ub2e4.\"\n        ],\n        \"semantic_type\": \"\",\n        \"description\": \"\"\n      }\n    },\n    {\n      \"column\": \"\\uc6d0\\ub798 \\ud45c\\ud604 3 \",\n      \"properties\": {\n        \"dtype\": \"category\",\n        \"num_unique_values\": 2,\n        \"samples\": [\n          \"\\ubaa9\\uc18c\\ub9ac\\uac00 \\ub108\\ubb34 \\uc575\\uc575\\uac70\\ub824\\uc11c \\ub4e3\\uae30 \\uc2eb\\uc5b4\\uc694 \",\n          \"\\uc575\\uc575\\uac70\\ub9ac\\ub2e4 \"\n        ],\n        \"semantic_type\": \"\",\n        \"description\": \"\"\n      }\n    },\n    {\n      \"column\": \"\\ub300\\uccb4\\ub41c \\ud45c\\ud604 3\",\n      \"properties\": {\n        \"dtype\": \"category\",\n        \"num_unique_values\": 2,\n        \"samples\": [\n          \"\\ubaa9\\uc18c\\ub9ac \\ud1a4\\uc774 \\ub4e3\\uae30\\uc5d0 \\ubd80\\ub2f4\\uc2a4\\ub7fd\\uc2b5\\ub2c8\\ub2e4.\",\n          \"\\uc131\\uc219\\ud558\\uc9c0 \\ubabb\\ud558\\ub2e4\"\n        ],\n        \"semantic_type\": \"\",\n        \"description\": \"\"\n      }\n    },\n    {\n      \"column\": \"\\uc6d0\\ub798 \\ud45c\\ud604 4 \",\n      \"properties\": {\n        \"dtype\": \"number\",\n        \"std\": null,\n        \"min\": null,\n        \"max\": null,\n        \"num_unique_values\": 0,\n        \"samples\": [],\n        \"semantic_type\": \"\",\n        \"description\": \"\"\n      }\n    },\n    {\n      \"column\": \"\\ub300\\uccb4\\ub41c \\ud45c\\ud604 4\",\n      \"properties\": {\n        \"dtype\": \"number\",\n        \"std\": null,\n        \"min\": null,\n        \"max\": null,\n        \"num_unique_values\": 0,\n        \"samples\": [],\n        \"semantic_type\": \"\",\n        \"description\": \"\"\n      }\n    }\n  ]\n}"
            }
          },
          "metadata": {},
          "execution_count": 13
        }
      ]
    }
  ]
}